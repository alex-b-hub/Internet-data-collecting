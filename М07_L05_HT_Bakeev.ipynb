{
 "cells": [
  {
   "cell_type": "markdown",
   "id": "3816f5fa",
   "metadata": {},
   "source": [
    "### <center>курс GeekBrains \"Методы сбора и обработки данных из сети Интернет\"<center>"
   ]
  },
  {
   "cell_type": "markdown",
   "id": "4356e473",
   "metadata": {},
   "source": [
    "### <center>Домашнее задание к уроку №5 \"Selenium в Python\"<center>"
   ]
  },
  {
   "cell_type": "markdown",
   "id": "9df06a16",
   "metadata": {},
   "source": [
    "**Вариант I** <br>\n",
    "Написать программу, которая собирает входящие письма из своего или тестового почтового ящика\n",
    "и сложить данные о письмах в базу данных (от кого, дата отправки, тема письма, текст письма полный)\n",
    "Логин тестового ящика: study.ai_172@mail.ru\n",
    "Пароль тестового ящика: NextPassword172#"
   ]
  },
  {
   "cell_type": "markdown",
   "id": "933e3e45",
   "metadata": {},
   "source": [
    "**Подключение библиотек и скриптов**"
   ]
  },
  {
   "cell_type": "code",
   "execution_count": 1,
   "id": "e5b2be49",
   "metadata": {},
   "outputs": [],
   "source": [
    "import time\n",
    "from pprint import pprint\n",
    "from selenium import webdriver\n",
    "from selenium.webdriver.chrome.service import Service\n",
    "from selenium.webdriver.chrome.options import Options\n",
    "from selenium.webdriver.common.by import By\n",
    "from selenium.webdriver.common.keys import Keys\n",
    "from selenium.webdriver.support.ui import Select\n",
    "from selenium.webdriver.common.action_chains import ActionChains\n",
    "from pymongo import MongoClient\n",
    "from pymongo.errors import DuplicateKeyError\n",
    "from hashlib import md5"
   ]
  },
  {
   "cell_type": "markdown",
   "id": "308665c8",
   "metadata": {},
   "source": [
    "**Функция формирующая hash-строку из полученного словаря dict**"
   ]
  },
  {
   "cell_type": "code",
   "execution_count": 2,
   "id": "e592d697",
   "metadata": {},
   "outputs": [],
   "source": [
    "# Функция формирующая hash-строку из полученного словаря dict\n",
    "def id_hash(dict):\n",
    "    temp = str(dict).encode('utf-8')\n",
    "    result = md5(temp).hexdigest()\n",
    "\n",
    "    return result"
   ]
  },
  {
   "cell_type": "markdown",
   "id": "31246ae9",
   "metadata": {},
   "source": [
    "**Функция записывающая данные из полученного списка словарей в mongo базу данных base**"
   ]
  },
  {
   "cell_type": "code",
   "execution_count": 3,
   "id": "2e836017",
   "metadata": {},
   "outputs": [],
   "source": [
    "def mongo_dict_insert(list, base):\n",
    "    '''настоящая функция записывает данные из полученного списка словарей list в базу данных base\n",
    "       важный момент: в составе словаря должен быть _id по которому настоящая функция определяет будет ли сделана запись,\n",
    "       если запись с таким _id уже есть в base, то будет поднято exception и запись не произойдет\n",
    "    :param list: список словарей\n",
    "    :return [add_num, except_num]: сколько словарей [добавлено, уже есть в базе данных]\n",
    "    '''\n",
    "    \n",
    "    add_num = 0\n",
    "    except_num = 0\n",
    "    \n",
    "    for n in list:\n",
    "        try:                           # перед записью в mongo происходит проверка на уникальность _id\n",
    "            base.insert_one(n)         \n",
    "            add_num += 1\n",
    "        except DuplicateKeyError:      # если запись с таким _id уже есть, то поднимается exception\n",
    "            except_num += 1\n",
    "            #print(f\"Document with id = {n['_id']} already exists\")\n",
    "\n",
    "    print(f'на входе имеем список содержащий {len(list)} словарей')\n",
    "    print(f'{add_num} словарей было добавлено в базу данных {base}')\n",
    "    print(f'{except_num} словарей из предложенного списка уже есть в базе данных {base}')\n",
    "            \n",
    "    return [add_num, except_num]"
   ]
  },
  {
   "cell_type": "markdown",
   "id": "6847e767",
   "metadata": {},
   "source": [
    "**поехали**"
   ]
  },
  {
   "cell_type": "code",
   "execution_count": 4,
   "id": "33944942",
   "metadata": {},
   "outputs": [],
   "source": [
    "options = Options()\n",
    "options.add_argument(\"start-maximized\")   # браузер на весь экран\n",
    "\n",
    "s = Service('./chromedriver')\n",
    "driver = webdriver.Chrome(service=s, options=options)"
   ]
  },
  {
   "cell_type": "markdown",
   "id": "a86870b4",
   "metadata": {},
   "source": [
    "**для задержки следующих действий прежде чем не загрузятся все элементы текущей страницы**"
   ]
  },
  {
   "cell_type": "code",
   "execution_count": 5,
   "id": "761f4800",
   "metadata": {},
   "outputs": [],
   "source": [
    "driver.implicitly_wait(15)"
   ]
  },
  {
   "cell_type": "markdown",
   "id": "3ff6a3f5",
   "metadata": {},
   "source": [
    "**получаем доступ к странице \"Входящие\"**"
   ]
  },
  {
   "cell_type": "code",
   "execution_count": 6,
   "id": "b3767f5b",
   "metadata": {},
   "outputs": [],
   "source": [
    "driver.get('https://account.mail.ru/login')\n",
    "\n",
    "elem = driver.find_element(By.XPATH, '//body/div[@id=\"login-content\"]//input[contains(@name, \"username\")]')\n",
    "#elem = driver.find_element(By.NAME, 'username')\n",
    "elem.send_keys(\"study.ai_172@mail.ru\")\n",
    "elem.send_keys(Keys.ENTER)\n",
    "\n",
    "time.sleep(1) # вроде и без нее работает, но оставляю на всякий случай\n",
    "\n",
    "elem = driver.find_element(By.XPATH, '//body/div[@id=\"login-content\"]//input[contains(@name, \"password\")]')\n",
    "elem.send_keys(\"NextPassword172#\")\n",
    "elem.send_keys(Keys.ENTER)"
   ]
  },
  {
   "cell_type": "code",
   "execution_count": 7,
   "id": "5dd7f1fb",
   "metadata": {},
   "outputs": [],
   "source": [
    "# тег в котором есть информация о количестве писем в папке Входящие\n",
    "# <a class=\"nav__item js-shortcut nav__item_active nav__item_shortcut nav__item_child-level_0\" href=\"/inbox/\" title=\"Входящие, 670 писем, 16 непрочитанных\">"
   ]
  },
  {
   "cell_type": "code",
   "execution_count": 8,
   "id": "0db84dd9",
   "metadata": {},
   "outputs": [
    {
     "data": {
      "text/plain": [
       "' 691 '"
      ]
     },
     "execution_count": 8,
     "metadata": {},
     "output_type": "execute_result"
    }
   ],
   "source": [
    "# читаем всплывающую подсказку \"Входящие, 670 писем, 16 непрочитанных\"\n",
    "elem = driver.find_element(By.XPATH, '//a[@href=\"/inbox/\"]')\n",
    "temp_str = elem.get_attribute('title')\n",
    "temp_str[9:14]"
   ]
  },
  {
   "cell_type": "code",
   "execution_count": 9,
   "id": "ab40d576",
   "metadata": {},
   "outputs": [],
   "source": [
    "# определяем количество страниц\n",
    "n_mails = 20   # для отладки\n",
    "# n_mails = int(temp_str[9:14])    # 670 - общее количество писем в папке \"Входящие\" согласно всплывающей подсказке\n",
    "n_pages = int(n_mails / 10)      # n_pages = 67 - примерно по 10 писем на странице"
   ]
  },
  {
   "cell_type": "markdown",
   "id": "d6d929da",
   "metadata": {},
   "source": [
    "**проходимся по каждой странице блока \"Входящие\" и собираем link каждого письма в множество set_of_links**"
   ]
  },
  {
   "cell_type": "code",
   "execution_count": 10,
   "id": "77ec0393",
   "metadata": {},
   "outputs": [],
   "source": [
    "set_of_links = set()\n",
    "\n",
    "for i in range(0, n_pages):\n",
    "    \n",
    "    elems = driver.find_elements(By.CLASS_NAME, 'llc')\n",
    "    last = len(elems)\n",
    "    \n",
    "    for el in elems:\n",
    "        link = el.get_attribute('href').split('?')\n",
    "        set_of_links.add(link[0])\n",
    "\n",
    "    actions = ActionChains(driver)\n",
    "    #actions.key_down(Keys.PAGE_DOWN) # не получилось\n",
    "    actions.move_to_element(elems[last - 1])\n",
    "    actions.perform()\n",
    "\n",
    "    time.sleep(1)"
   ]
  },
  {
   "cell_type": "markdown",
   "id": "52db1258",
   "metadata": {},
   "source": [
    "**формируем список добытых ссылок links**"
   ]
  },
  {
   "cell_type": "code",
   "execution_count": 11,
   "id": "7cc5c0f1",
   "metadata": {},
   "outputs": [],
   "source": [
    "links = list(set_of_links)"
   ]
  },
  {
   "cell_type": "markdown",
   "id": "ef44e2e5",
   "metadata": {},
   "source": [
    "**собираем итоговый список словарей mail_list в котором будут ключевые данные по входящим письмам**"
   ]
  },
  {
   "cell_type": "code",
   "execution_count": 12,
   "id": "06a47c96",
   "metadata": {},
   "outputs": [],
   "source": [
    "mail_list = []\n",
    "\n",
    "for link in links:\n",
    "    \n",
    "    driver.get(link)\n",
    "\n",
    "    time.sleep(1)\n",
    "    \n",
    "    subject = driver.find_element(By.CLASS_NAME, \"thread-subject\").text\n",
    "    contact = driver.find_element(By.CLASS_NAME, \"letter-contact\").text\n",
    "    date_ = driver.find_element(By.CLASS_NAME, \"letter__date\").text\n",
    "    body = driver.find_element(By.CLASS_NAME, \"letter__body\").text\n",
    "    body = body.replace('\\n', '')\n",
    "    body = body.replace('\\t', '')\n",
    "    \n",
    "    mail = {}\n",
    "    mail['subject'] = subject\n",
    "    mail['from_'] = contact\n",
    "    mail['date_'] = date_\n",
    "    mail['_id'] = id_hash(mail)\n",
    "    mail['body'] = body\n",
    "    \n",
    "    mail_list.append(mail)"
   ]
  },
  {
   "cell_type": "code",
   "execution_count": 13,
   "id": "8ad92def",
   "metadata": {},
   "outputs": [
    {
     "data": {
      "text/plain": [
       "32"
      ]
     },
     "execution_count": 13,
     "metadata": {},
     "output_type": "execute_result"
    }
   ],
   "source": [
    "len(mail_list)"
   ]
  },
  {
   "cell_type": "markdown",
   "id": "47916307",
   "metadata": {},
   "source": [
    "**подключаем Mongo и работаем с базой данных 'news_db'**"
   ]
  },
  {
   "cell_type": "code",
   "execution_count": 14,
   "id": "75b98a56",
   "metadata": {},
   "outputs": [],
   "source": [
    "client = MongoClient('127.0.0.1', 27017)\n",
    "db = client['mails_db']\n",
    "mails = db.mails\n",
    "#news.delete_many({})    # включаем эту строку если надо очистить базу данных "
   ]
  },
  {
   "cell_type": "markdown",
   "id": "a94f7390",
   "metadata": {},
   "source": [
    "**инициируем работу функции mongo_dict_insert, которая записывает данные из news_mail_ru_list в 'mails_db'**"
   ]
  },
  {
   "cell_type": "code",
   "execution_count": 15,
   "id": "8c06c40a",
   "metadata": {},
   "outputs": [
    {
     "name": "stdout",
     "output_type": "stream",
     "text": [
      "на входе имеем список содержащий 32 словарей\n",
      "26 словарей было добавлено в базу данных Collection(Database(MongoClient(host=['127.0.0.1:27017'], document_class=dict, tz_aware=False, connect=True), 'mails_db'), 'mails')\n",
      "6 словарей из предложенного списка уже есть в базе данных Collection(Database(MongoClient(host=['127.0.0.1:27017'], document_class=dict, tz_aware=False, connect=True), 'mails_db'), 'mails')\n"
     ]
    },
    {
     "data": {
      "text/plain": [
       "[26, 6]"
      ]
     },
     "execution_count": 15,
     "metadata": {},
     "output_type": "execute_result"
    }
   ],
   "source": [
    "mongo_dict_insert(mail_list, mails)"
   ]
  },
  {
   "cell_type": "code",
   "execution_count": null,
   "id": "1e50f31d",
   "metadata": {},
   "outputs": [],
   "source": []
  },
  {
   "cell_type": "markdown",
   "id": "fb81b081",
   "metadata": {},
   "source": [
    "**Вариант II**<br>\n",
    "Написать программу, которая собирает товары «В тренде» с сайта техники mvideo и складывает данные в БД. \n",
    "Сайт можно выбрать и свой. Главный критерий выбора: динамически загружаемые товары"
   ]
  },
  {
   "cell_type": "code",
   "execution_count": 17,
   "id": "a2acfaee",
   "metadata": {},
   "outputs": [],
   "source": [
    "# https://www.mvideo.ru/"
   ]
  },
  {
   "cell_type": "markdown",
   "id": "4631f62a",
   "metadata": {},
   "source": [
    "**этот вариант не успевают довести \"до ума\" и \"вычистить\" все недоделки,\n",
    "основной скелет вроде сделан**"
   ]
  },
  {
   "cell_type": "code",
   "execution_count": 5,
   "id": "bc5a59eb",
   "metadata": {},
   "outputs": [],
   "source": [
    "options = Options()\n",
    "options.add_argument(\"start-maximized\")   # браузер на весь экран\n",
    "\n",
    "s = Service('./chromedriver')\n",
    "driver = webdriver.Chrome(service=s, options=options)"
   ]
  },
  {
   "cell_type": "code",
   "execution_count": 6,
   "id": "0aebdae1",
   "metadata": {},
   "outputs": [],
   "source": [
    "driver.get('https://www.mvideo.ru/')"
   ]
  },
  {
   "cell_type": "code",
   "execution_count": 7,
   "id": "f327cc72",
   "metadata": {},
   "outputs": [],
   "source": [
    "#driver.execute_script(\"window.scrollTo(0,100)\")\n",
    "driver.execute_script(\"window.scrollTo(0,1500)\")\n",
    "time.sleep(1)"
   ]
  },
  {
   "cell_type": "code",
   "execution_count": 8,
   "id": "8d95d8f6",
   "metadata": {},
   "outputs": [],
   "source": [
    "elem = driver.find_element(By.XPATH, \"//button//span[contains(text(), 'В тренде')]\")"
   ]
  },
  {
   "cell_type": "code",
   "execution_count": 9,
   "id": "ce208f2e",
   "metadata": {},
   "outputs": [],
   "source": [
    "elem.click()"
   ]
  },
  {
   "cell_type": "code",
   "execution_count": 10,
   "id": "0975c15f",
   "metadata": {},
   "outputs": [],
   "source": [
    "#/html/body/mvid-root/div/mvid-primary-layout/mvid-layout/div/main/ng-component/div/mvid-shelf-group/mvid-carousel/div[1]/div/mvid-product-cards-group/div[2]\n",
    "#//mvid-root//mvid-primary-layout/mvid-layout/div/main/ng-component/div/mvid-shelf-group/mvid-carousel//mvid-product-cards-group/div\n",
    "# //mvid-root//mvid-primary-layout/mvid-layout//mvid-shelf-group/mvid-carousel//mvid-product-cards-group/div\n",
    "_x_path = '//mvid-shelf-group/mvid-carousel//mvid-product-cards-group/div//a[@class=\"img-with-badge ng-star-inserted\"]'"
   ]
  },
  {
   "cell_type": "code",
   "execution_count": 11,
   "id": "76241ebc",
   "metadata": {},
   "outputs": [
    {
     "data": {
      "text/plain": [
       "16"
      ]
     },
     "execution_count": 11,
     "metadata": {},
     "output_type": "execute_result"
    }
   ],
   "source": [
    "products = driver.find_elements(By.XPATH, _x_path)\n",
    "len(products)"
   ]
  },
  {
   "cell_type": "code",
   "execution_count": 12,
   "id": "1870e85d",
   "metadata": {},
   "outputs": [],
   "source": [
    "product_links = []\n",
    "for product in products:    \n",
    "    \n",
    "    product_links.append(product.get_attribute('href'))\n",
    "    \n",
    "#print(product_links)"
   ]
  },
  {
   "cell_type": "code",
   "execution_count": 13,
   "id": "f6a713fa",
   "metadata": {},
   "outputs": [],
   "source": [
    "products_list = []\n",
    "\n",
    "for link in product_links:    \n",
    "\n",
    "    driver.get(link)\n",
    "  \n",
    "    time.sleep(3)\n",
    "    \n",
    "#//mvid-root/div/mvid-primary-layout/mvid-layout/div/main/mvid-pdp/mvid-pdp-general/div/mvid-general-details/div/div[1]/h1     \n",
    "    product_name = driver.find_element(By.XPATH, './/h1').text\n",
    "    \n",
    "#     product_price = driver.find_element(By.XPATH, './/span[@class=\"price__main-value\"]').text\n",
    "    \n",
    "    product = {}\n",
    "    product['link'] = link\n",
    "    product['name'] = product_name\n",
    "#     product['price'] = product_price\n",
    "    product['_id'] = id_hash(product)\n",
    "    \n",
    "    products_list.append(product)  "
   ]
  },
  {
   "cell_type": "code",
   "execution_count": 14,
   "id": "ef6ed506",
   "metadata": {},
   "outputs": [
    {
     "name": "stdout",
     "output_type": "stream",
     "text": [
      "[{'link': 'https://www.mvideo.ru/products/smartfon-apple-iphone-11-128gb-black-mhdh3ru-a-30052942', 'name': 'Смартфон Apple iPhone 11 128GB Black (MHDH3RU/A)', '_id': 'ec98216aa201165c06492b2558811751'}, {'link': 'https://www.mvideo.ru/products/naushniki-apple-airpods-3-go-pokoleniya-mme73ru-a-50163928', 'name': 'Наушники Apple AirPods 3-го поколения (MME73RU/A)', '_id': 'd34c7b9d258dc415ba6ed53c847e375c'}, {'link': 'https://www.mvideo.ru/products/smartfon-xiaomi-redmi-note-11-nfc-4gb128gb-twilight-blue-30062384', 'name': 'Смартфон Xiaomi Redmi Note 11 NFC 4GB+128GB Twilight Blue', '_id': 'aea1a58fd434f7497e6d86febd8fbeb1'}, {'link': 'https://www.mvideo.ru/products/televizor-vityaz-24lh0201-10021226', 'name': 'Телевизор Витязь 24LH0201', '_id': '5dd2324aa0180485cdd82d2e4164edb8'}, {'link': 'https://www.mvideo.ru/products/elektricheskii-samokat-kugoo-kirin-s1-pro-kgo-kgs1pro-bk-10025947', 'name': 'Электрический самокат Kugoo Kirin S1 Pro (KGO-KGS1PRO-BK)', '_id': '929bc906ad8eac2fb6d7db44b132ade9'}, {'link': 'https://www.mvideo.ru/products/stiralnaya-mashina-uzkaya-haier-hw60-bp12959a-20066478', 'name': 'Стиральная машина узкая Haier HW60-BP12959A', '_id': '06d244a27590f56c4f1a871bcc61083b'}, {'link': 'https://www.mvideo.ru/products/televizor-sber-sbx-50u219tss-10030236', 'name': 'Телевизор Sber SBX-50U219TSS', '_id': '5b58ab5f72bdae4a2063973ee9101026'}, {'link': 'https://www.mvideo.ru/products/holodilnik-haier-cef535awg-20077298', 'name': 'Холодильник Haier CEF535AWG', '_id': 'f378fcf4792ebbbc1bee5f771cc26f7b'}, {'link': 'https://www.mvideo.ru/products/noutbuk-honor-magicbook-x-15-i5-8-512-gray-bbr-wah9-30056687', 'name': 'Ноутбук Honor MagicBook X 15 i5/8/512 Gray (BBR-WAH9)', '_id': '8bee3b12659e2839df967a0df2f0c9d3'}, {'link': 'https://www.mvideo.ru/products/smartfon-samsung-galaxy-a22s-128gb-gray-sm-a226b-30060746', 'name': 'Смартфон Samsung Galaxy A22s 128GB Gray (SM-A226B)', '_id': '12c9b3b11971941fb00dcf0fb04ab176'}, {'link': 'https://www.mvideo.ru/products/fen-rowenta-ultimate-experience-maestria-cv9920f0-20077647', 'name': 'Фен Rowenta Ultimate Experience Maestria CV9920F0', '_id': 'eb65c1585874721d9125685620af6780'}, {'link': 'https://www.mvideo.ru/products/igrovaya-pristavka-microsoft-xbox-series-s-512gb-40074462', 'name': 'Игровая приставка Microsoft Xbox Series S 512GB', '_id': 'f380af5465d0cf497ec5fd988ae5631c'}, {'link': 'https://www.mvideo.ru/products/vstraivaemaya-posudomoechnaya-mashina-60-sm-hansa-zim674h-20069152', 'name': 'Встраиваемая посудомоечная машина 60 см Hansa ZIM674H', '_id': '1e3a74a63b8a7c1a3a5ad3a10f9b4002'}, {'link': 'https://www.mvideo.ru/products/split-sistema-novex-nac-07f1a-20071122', 'name': 'Сплит-система Novex NAC-07F1A', '_id': '37ce2d10964617e69e58cd4db91f27b1'}, {'link': 'https://www.mvideo.ru/products/pogruzhnoi-blender-tefal-optichef--hb64f810-20078722', 'name': 'Погружной блендер Tefal Optichef HB64F810', '_id': 'f8c8387b46c6c0bf15d7719e2c457c62'}, {'link': 'https://www.mvideo.ru/products/robot-pylesos-tefal-smart-force-x-plorer-rg6825wh-20063304', 'name': 'Робот-пылесос Tefal Smart Force X-plorer RG6825WH', '_id': '1174e47e50f7a94818f0a221220aae7d'}]\n"
     ]
    }
   ],
   "source": [
    "print(products_list)"
   ]
  },
  {
   "cell_type": "code",
   "execution_count": 15,
   "id": "c8f79fbc",
   "metadata": {},
   "outputs": [],
   "source": [
    "client = MongoClient('127.0.0.1', 27017)\n",
    "db = client['products_db']\n",
    "products = db.products\n",
    "#news.delete_many({})    # включаем эту строку если надо очистить базу данных "
   ]
  },
  {
   "cell_type": "code",
   "execution_count": 16,
   "id": "32c9bd77",
   "metadata": {},
   "outputs": [
    {
     "name": "stdout",
     "output_type": "stream",
     "text": [
      "на входе имеем список содержащий 16 словарей\n",
      "0 словарей было добавлено в базу данных Collection(Database(MongoClient(host=['127.0.0.1:27017'], document_class=dict, tz_aware=False, connect=True), 'products_db'), 'products')\n",
      "16 словарей из предложенного списка уже есть в базе данных Collection(Database(MongoClient(host=['127.0.0.1:27017'], document_class=dict, tz_aware=False, connect=True), 'products_db'), 'products')\n"
     ]
    },
    {
     "data": {
      "text/plain": [
       "[0, 16]"
      ]
     },
     "execution_count": 16,
     "metadata": {},
     "output_type": "execute_result"
    }
   ],
   "source": [
    "mongo_dict_insert(products_list, products)"
   ]
  },
  {
   "cell_type": "code",
   "execution_count": null,
   "id": "c1ad90c8",
   "metadata": {},
   "outputs": [],
   "source": []
  }
 ],
 "metadata": {
  "kernelspec": {
   "display_name": "Python 3 (ipykernel)",
   "language": "python",
   "name": "python3"
  },
  "language_info": {
   "codemirror_mode": {
    "name": "ipython",
    "version": 3
   },
   "file_extension": ".py",
   "mimetype": "text/x-python",
   "name": "python",
   "nbconvert_exporter": "python",
   "pygments_lexer": "ipython3",
   "version": "3.9.7"
  }
 },
 "nbformat": 4,
 "nbformat_minor": 5
}
