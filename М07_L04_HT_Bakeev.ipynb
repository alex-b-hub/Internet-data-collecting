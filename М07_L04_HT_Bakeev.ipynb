{
 "cells": [
  {
   "cell_type": "markdown",
   "id": "3816f5fa",
   "metadata": {},
   "source": [
    "### <center>курс GeekBrains \"Методы сбора и обработки данных из сети Интернет\"<center>"
   ]
  },
  {
   "cell_type": "markdown",
   "id": "4356e473",
   "metadata": {},
   "source": [
    "### <center>Домашнее задание к уроку №4. \"Парсинг HTML. XPath\"<center>"
   ]
  },
  {
   "cell_type": "markdown",
   "id": "9df06a16",
   "metadata": {},
   "source": [
    "1. Написать приложение, которое собирает основные новости с сайта на выбор news.mail.ru, lenta.ru, yandex-новости.  Для парсинга использовать XPath. Структура данных должна содержать:\n",
    "    - название источника;\n",
    "    - наименование новости;\n",
    "    - ссылку на новость;\n",
    "    - дата публикации\n",
    "\n",
    "\n",
    "2. Сложить собранные новости в БД"
   ]
  },
  {
   "cell_type": "markdown",
   "id": "933e3e45",
   "metadata": {},
   "source": [
    "**Подключение библиотек и скриптов**"
   ]
  },
  {
   "cell_type": "code",
   "execution_count": 1,
   "id": "e5b2be49",
   "metadata": {},
   "outputs": [],
   "source": [
    "import sys\n",
    "import requests\n",
    "from lxml import html\n",
    "from pprint import pprint\n",
    "from datetime import datetime, date\n",
    "import datetime\n",
    "import re\n",
    "from pymongo import MongoClient\n",
    "from pymongo.errors import DuplicateKeyError\n",
    "from hashlib import md5"
   ]
  },
  {
   "cell_type": "markdown",
   "id": "ad446fd5",
   "metadata": {},
   "source": [
    "**Функция формирующая hash-строку из полученного словаря dict**"
   ]
  },
  {
   "cell_type": "code",
   "execution_count": 2,
   "id": "2a4d1663",
   "metadata": {},
   "outputs": [],
   "source": [
    "def id_hash(dict):\n",
    "    '''Функция формирующая hash-строку из полученного словаря dict\n",
    "    :param dict: полученного словаря dict\n",
    "    :return result: hash-строка\n",
    "    '''\n",
    "\n",
    "    temp = str(dict).encode('utf-8')\n",
    "    result = md5(temp).hexdigest()\n",
    "\n",
    "    return result"
   ]
  },
  {
   "cell_type": "markdown",
   "id": "880c94aa",
   "metadata": {},
   "source": [
    "**Функция записывающая данные из полученного списка словарей в mongo базу данных base**"
   ]
  },
  {
   "cell_type": "code",
   "execution_count": 3,
   "id": "3d09747d",
   "metadata": {},
   "outputs": [],
   "source": [
    "def mongo_dict_insert(list, base):\n",
    "    '''настоящая функция записывает данные из полученного списка словарей list в базу данных base\n",
    "       важный момент: в составе словаря должен быть _id по которому настоящая функция определяет будет ли сделана запись,\n",
    "       если запись с таким _id уже есть в base, то будет поднято exception и запись не произойдет\n",
    "    :param list: список словарей\n",
    "    :return [add_num, except_num]: сколько словарей [добавлено, уже есть в базе данных]\n",
    "    '''\n",
    "    \n",
    "    add_num = 0\n",
    "    except_num = 0\n",
    "    \n",
    "    for n in list:\n",
    "        try:\n",
    "            base.insert_one(n)\n",
    "            add_num += 1\n",
    "        except DuplicateKeyError:\n",
    "            except_num += 1\n",
    "            #print(f\"Document with id = {n['_id']} already exists\")\n",
    "\n",
    "    print(f'на входе имеем список содержащий {len(list)} словарей')\n",
    "    print(f'{add_num} словарей было добавлено в базу данных {base}')\n",
    "    print(f'{except_num} словарей из предложенного списка уже есть в базе данных {base}')\n",
    "            \n",
    "    return [add_num, except_num]"
   ]
  },
  {
   "cell_type": "markdown",
   "id": "2adad683",
   "metadata": {},
   "source": [
    "**функция news_mail_ru_scraper**"
   ]
  },
  {
   "cell_type": "code",
   "execution_count": 4,
   "id": "80c3ecba",
   "metadata": {},
   "outputs": [],
   "source": [
    "def news_mail_ru_scraper(dom):    \n",
    "    '''функция производит скрапинг dom в котором должны содержаться 5 заглавных фотоновостей \n",
    "       размещенных на сйте 'https://news.mail.ru/'       \n",
    "    :param dom: \n",
    "    :return news_list: \n",
    "    '''\n",
    "\n",
    "    news = dom.xpath('//a[contains(@class, \"js-topnews__item\")]')\n",
    "     \n",
    "    news_list = []\n",
    "    i = 0\n",
    "    \n",
    "    for n in news:\n",
    "        temp_dict = {}\n",
    "\n",
    "        news_text = n.xpath('.//text()')[0].replace(u'\\xa0', u' ')\n",
    "        news_link = n.xpath('../a/@href')\n",
    "        \n",
    "        #чтобы добраться до даты и ссылки на первоисточник перейдем к странице с новостью и поработаем с ней\n",
    "        i_headers = {'User-Agent': user_agent_list[i]} # ? возможно и не стоит менять агента на каждый новый запрос\n",
    "        request = requests.get(news_link[0], headers=i_headers) # ? я таки сделал для перестраховки\n",
    "        next_dom = html.fromstring(request.text)\n",
    "\n",
    "        date = next_dom.xpath('//span/@datetime')\n",
    "#         temp['date'] = date[0]\n",
    "        date = datetime.datetime.strptime(str(date[0]), '%Y-%m-%dT%H:%M:%S%z')\n",
    "        source_link = next_dom.xpath('//span[contains(@class, \"note\")]//@href')\n",
    "                \n",
    "        temp_dict['name'] = news_text\n",
    "        temp_dict['date'] = date.strftime('%Y-%m-%d %H:%M')\n",
    "        temp_dict['source_link'] = source_link[0]\n",
    "        temp_dict['_id'] = id_hash(temp_dict) #добавляем в news_list хеш-строку построенную на предидущих данных для mongoid\n",
    "        temp_dict['link'] = news_link[0]\n",
    "\n",
    "        news_list.append(temp_dict)\n",
    "        i += 1        \n",
    "  \n",
    "    return news_list"
   ]
  },
  {
   "cell_type": "markdown",
   "id": "808db371",
   "metadata": {},
   "source": [
    "**функция news_lenta_scraper**"
   ]
  },
  {
   "cell_type": "code",
   "execution_count": 5,
   "id": "4403bba3",
   "metadata": {},
   "outputs": [],
   "source": [
    "def news_lenta_scraper(dom):    \n",
    "    '''функция производит скрапинг dom в котором должны содержаться 5 заглавных фотоновостей \n",
    "       размещенных на сйте 'https://lenta.ru//'  \n",
    "    :param dom: \n",
    "    :return news_list: \n",
    "    '''\n",
    "\n",
    "    news = dom.xpath('//a[contains(@class, \"topnews\")]')\n",
    "     \n",
    "    news_list = []\n",
    "    i = 0\n",
    "    \n",
    "    for n in news:\n",
    "        temp_dict = {}\n",
    "\n",
    "        news_text = n.xpath('.//text()')[0]\n",
    "        #print(news_text)\n",
    "        if news_text == 'Все новости':\n",
    "            break\n",
    "        news_link = n.xpath('.//@href')[0]\n",
    "        #print(news_link)\n",
    "        news_time = n.xpath('.//time/text()')\n",
    "        #print(news_time)\n",
    "        \n",
    "        if news_link[:20] == 'https://moslenta.ru/':            \n",
    "            temp_date = re.search(r'\\d\\d\\D\\d\\d\\D\\d\\d\\d\\d', str(news_link))[0]\n",
    "            temp_date_time = temp_date + ' ' + news_time[0]\n",
    "            n_date = datetime.datetime.strptime(temp_date_time, '%m-%d-%Y %H:%M')\n",
    "        \n",
    "            source_link = news_link\n",
    "        else:           \n",
    "            temp_date = re.search(r'\\d\\d\\d\\d\\D\\d\\d\\D\\d\\d', str(news_link))[0]\n",
    "            temp_date_time = temp_date + ' ' + news_time[0]\n",
    "            n_date = datetime.datetime.strptime(temp_date_time, '%Y/%m/%d %H:%M')\n",
    "            source_link = 'https://lenta.ru' + news_link\n",
    "         \n",
    "        temp_dict['name'] = news_text\n",
    "        #temp_dict['date'] = temp_date\n",
    "        temp_dict['date'] = n_date.strftime('%Y-%m-%d %H:%M')     \n",
    "        temp_dict['_id'] = id_hash(temp_dict) #добавляем в news_list хеш-строку построенную на предидущих данных для mongo_id\n",
    "        temp_dict['source_link'] = source_link\n",
    "        #temp_dict['link'] = news_link[0]\n",
    "\n",
    "        news_list.append(temp_dict)\n",
    "        i += 1\n",
    "  \n",
    "    return news_list"
   ]
  },
  {
   "cell_type": "markdown",
   "id": "479b2b45",
   "metadata": {},
   "source": [
    "**подключаем Mongo и работаем с базой данных 'news_db'**"
   ]
  },
  {
   "cell_type": "code",
   "execution_count": 6,
   "id": "ef08e35f",
   "metadata": {},
   "outputs": [],
   "source": [
    "client = MongoClient('127.0.0.1', 27017)\n",
    "db = client['news_db']\n",
    "news = db.news\n",
    "#news.delete_many({})    # включаем эту строку если надо очистить базу данных "
   ]
  },
  {
   "cell_type": "markdown",
   "id": "c4cee9da",
   "metadata": {},
   "source": [
    "**определем некоторые переменные**"
   ]
  },
  {
   "cell_type": "code",
   "execution_count": 7,
   "id": "82c85ba4",
   "metadata": {},
   "outputs": [],
   "source": [
    "my_header = {'User-Agent': 'Mozilla/5.0 (Windows NT 10.0; WOW64) AppleWebKit/537.36 (KHTML, like Gecko) Chrome/100.0.4896.75 Safari/537.36'}"
   ]
  },
  {
   "cell_type": "markdown",
   "id": "bc2e3231",
   "metadata": {},
   "source": [
    "Список актуальных User agent по состоянию на 09.04.2022 для десктопных компьютеров взят из источника:\n",
    "http://web-data-extractor.net/faq/spisok-aktualnyx-user-agent/"
   ]
  },
  {
   "cell_type": "code",
   "execution_count": 8,
   "id": "cf6f2998",
   "metadata": {},
   "outputs": [],
   "source": [
    "user_agent_list = ['Mozilla/5.0 (Windows NT 10.0) AppleWebKit/537.36 (KHTML, like Gecko) Chrome/100.0.4896.60 Safari/537.36',\n",
    "                   'Mozilla/5.0 (Macintosh; Intel Mac OS X 12_3_1) AppleWebKit/537.36 (KHTML, like Gecko) Chrome/100.0.4896.60 Safari/537.36',\n",
    "                   'Mozilla/5.0 (X11; Linux x86_64) AppleWebKit/537.36 (KHTML, like Gecko) Chrome/100.0.4896.60 Safari/537.36',\n",
    "                   'Mozilla/4.0 (compatible; MSIE 8.0; Windows NT 6.0; Trident/4.0)',\n",
    "                   'Mozilla/4.0 (compatible; MSIE 8.0; Windows NT 6.1; Trident/4.0)',\n",
    "                   'Mozilla/4.0 (compatible; MSIE 9.0; Windows NT 6.0; Trident/5.0)',\n",
    "                   'Mozilla/4.0 (compatible; MSIE 9.0; Windows NT 6.1; Trident/5.0)',\n",
    "                   'Mozilla/5.0 (compatible; MSIE 10.0; Windows NT 6.1; Trident/6.0)',\n",
    "                   'Mozilla/5.0 (compatible; MSIE 10.0; Windows NT 6.2; Trident/6.0)',\n",
    "                   'Mozilla/5.0 (Windows NT 6.1; Trident/7.0; rv:11.0) like Gecko',\n",
    "                   'Mozilla/5.0 (Windows NT 6.2; Trident/7.0; rv:11.0) like Gecko',\n",
    "                   'Mozilla/5.0 (Windows NT 6.3; Trident/7.0; rv:11.0) like Gecko',\n",
    "                   'Mozilla/5.0 (Windows NT 10.0; Trident/7.0; rv:11.0) like Gecko',\n",
    "                   'Mozilla/5.0 (Windows NT 10.0; Win64; x64; rv:98.0) Gecko/20100101 Firefox/98.0' \n",
    "                  ]"
   ]
  },
  {
   "cell_type": "markdown",
   "id": "03090965",
   "metadata": {},
   "source": [
    "**формируем dom для 'https://news.mail.ru/'**"
   ]
  },
  {
   "cell_type": "code",
   "execution_count": 9,
   "id": "3bbe7bb7",
   "metadata": {},
   "outputs": [],
   "source": [
    "request = requests.get('https://news.mail.ru/', headers=my_header)\n",
    "dom = html.fromstring(request.text)"
   ]
  },
  {
   "cell_type": "markdown",
   "id": "83ee4a19",
   "metadata": {},
   "source": [
    "**инициируем работу функции news_lenta_scraper, которая формирует news_mail_ru_list из dom**"
   ]
  },
  {
   "cell_type": "code",
   "execution_count": 10,
   "id": "263beb79",
   "metadata": {},
   "outputs": [],
   "source": [
    "news_mail_ru_list = news_mail_ru_scraper(dom)\n",
    "#news_mail_ru_list"
   ]
  },
  {
   "cell_type": "markdown",
   "id": "632fe101",
   "metadata": {},
   "source": [
    "**инициируем работу функции mongo_dict_insert, которая записывает данные из news_mail_ru_list в 'news_db'**"
   ]
  },
  {
   "cell_type": "code",
   "execution_count": 11,
   "id": "ff3ddc31",
   "metadata": {},
   "outputs": [
    {
     "name": "stdout",
     "output_type": "stream",
     "text": [
      "на входе имеем список содержащий 5 словарей\n",
      "0 словарей было добавлено в базу данных Collection(Database(MongoClient(host=['127.0.0.1:27017'], document_class=dict, tz_aware=False, connect=True), 'news_db'), 'news')\n",
      "5 словарей из предложенного списка уже есть в базе данных Collection(Database(MongoClient(host=['127.0.0.1:27017'], document_class=dict, tz_aware=False, connect=True), 'news_db'), 'news')\n"
     ]
    },
    {
     "data": {
      "text/plain": [
       "[0, 5]"
      ]
     },
     "execution_count": 11,
     "metadata": {},
     "output_type": "execute_result"
    }
   ],
   "source": [
    "mongo_dict_insert(news_mail_ru_list, news)"
   ]
  },
  {
   "cell_type": "markdown",
   "id": "73812538",
   "metadata": {},
   "source": [
    "**формируем dom для 'https://lenta.ru/'**"
   ]
  },
  {
   "cell_type": "code",
   "execution_count": 12,
   "id": "ac49c18a",
   "metadata": {},
   "outputs": [],
   "source": [
    "request = requests.get('https://lenta.ru/', headers=my_header)\n",
    "dom = html.fromstring(request.text)"
   ]
  },
  {
   "cell_type": "markdown",
   "id": "35158d81",
   "metadata": {},
   "source": [
    "**инициируем работу функции news_lenta_scraper, которая формирует news_lenta_list из dom**"
   ]
  },
  {
   "cell_type": "code",
   "execution_count": 13,
   "id": "97dd3f2f",
   "metadata": {},
   "outputs": [],
   "source": [
    "news_lenta_list = news_lenta_scraper(dom)\n",
    "#news_lenta_list"
   ]
  },
  {
   "cell_type": "markdown",
   "id": "3506ca9f",
   "metadata": {},
   "source": [
    "**инициируем работу функции mongo_dict_insert, которая записывает данные из news_lenta_list в 'news_db'**"
   ]
  },
  {
   "cell_type": "code",
   "execution_count": 14,
   "id": "20c9a2ad",
   "metadata": {},
   "outputs": [
    {
     "name": "stdout",
     "output_type": "stream",
     "text": [
      "на входе имеем список содержащий 13 словарей\n",
      "0 словарей было добавлено в базу данных Collection(Database(MongoClient(host=['127.0.0.1:27017'], document_class=dict, tz_aware=False, connect=True), 'news_db'), 'news')\n",
      "13 словарей из предложенного списка уже есть в базе данных Collection(Database(MongoClient(host=['127.0.0.1:27017'], document_class=dict, tz_aware=False, connect=True), 'news_db'), 'news')\n"
     ]
    },
    {
     "data": {
      "text/plain": [
       "[0, 13]"
      ]
     },
     "execution_count": 14,
     "metadata": {},
     "output_type": "execute_result"
    }
   ],
   "source": [
    "mongo_dict_insert(news_lenta_list, news)"
   ]
  },
  {
   "cell_type": "code",
   "execution_count": null,
   "id": "361d814d",
   "metadata": {},
   "outputs": [],
   "source": []
  },
  {
   "cell_type": "markdown",
   "id": "81c72c19",
   "metadata": {},
   "source": [
    "**не успеваю сделать код для https://yandex.ru/news/**"
   ]
  },
  {
   "cell_type": "code",
   "execution_count": 15,
   "id": "5465a15c",
   "metadata": {},
   "outputs": [],
   "source": [
    "#news_yandex_link = 'https://yandex.ru/news/'"
   ]
  },
  {
   "cell_type": "code",
   "execution_count": null,
   "id": "efcc2eb0",
   "metadata": {},
   "outputs": [],
   "source": []
  }
 ],
 "metadata": {
  "kernelspec": {
   "display_name": "Python 3 (ipykernel)",
   "language": "python",
   "name": "python3"
  },
  "language_info": {
   "codemirror_mode": {
    "name": "ipython",
    "version": 3
   },
   "file_extension": ".py",
   "mimetype": "text/x-python",
   "name": "python",
   "nbconvert_exporter": "python",
   "pygments_lexer": "ipython3",
   "version": "3.9.7"
  }
 },
 "nbformat": 4,
 "nbformat_minor": 5
}
